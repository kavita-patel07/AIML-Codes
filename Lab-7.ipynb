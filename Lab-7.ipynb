{
 "cells": [
  {
   "cell_type": "code",
   "execution_count": 1,
   "id": "3d10fcd3",
   "metadata": {},
   "outputs": [],
   "source": [
    "import numpy as np\n",
    "\n",
    "#create sigmoid function\n",
    "def sigmoid(x):\n",
    "    return 1/(1+np.exp(-x))"
   ]
  },
  {
   "cell_type": "code",
   "execution_count": 2,
   "id": "c2591415",
   "metadata": {},
   "outputs": [],
   "source": [
    "#x = 2.0\n",
    "#result = sigmoid(x)\n",
    "#print(\"Sigmoid of\", x, \"is\", result)"
   ]
  },
  {
   "cell_type": "code",
   "execution_count": 3,
   "id": "034e0462",
   "metadata": {},
   "outputs": [],
   "source": [
    "#generate training example\n",
    "training_data = np.array([[0,0,1],[1,1,1],[1,0,1],[0,1,1]])\n",
    "\n",
    "train_output = np.array([[0,1,1,0]]).T"
   ]
  },
  {
   "cell_type": "code",
   "execution_count": 4,
   "id": "6b149908",
   "metadata": {},
   "outputs": [
    {
     "data": {
      "text/plain": [
       "array([[-0.16595599],\n",
       "       [ 0.44064899],\n",
       "       [-0.99977125]])"
      ]
     },
     "execution_count": 4,
     "metadata": {},
     "output_type": "execute_result"
    }
   ],
   "source": [
    "#generate weights\n",
    "\n",
    "# We model a single neuron, with 3 input connections and 1 output connection.\n",
    "# We assign random weights to a 3*1 matrix , with values in the range -1 to 1 and mean 0.\n",
    "\n",
    "\n",
    "np.random.seed(1)\n",
    "\n",
    "weights = 2 * np.random.random((3,1)) -1\n",
    "weights"
   ]
  },
  {
   "cell_type": "code",
   "execution_count": 5,
   "id": "95a9cf56",
   "metadata": {},
   "outputs": [
    {
     "name": "stdout",
     "output_type": "stream",
     "text": [
      "[[0.2689864 ]\n",
      " [0.3262757 ]\n",
      " [0.23762817]\n",
      " [0.36375058]]\n"
     ]
    }
   ],
   "source": [
    "for i in range(1):\n",
    "    outputs = sigmoid(np.dot(training_data,weights))\n",
    "print(outputs)"
   ]
  },
  {
   "cell_type": "code",
   "execution_count": 8,
   "id": "e01ebe26",
   "metadata": {},
   "outputs": [],
   "source": [
    "def SCG(x):\n",
    "    return x * (1 - x)"
   ]
  },
  {
   "cell_type": "code",
   "execution_count": 9,
   "id": "c1b02593",
   "metadata": {},
   "outputs": [
    {
     "name": "stdout",
     "output_type": "stream",
     "text": [
      "[[11.30926129]\n",
      " [-0.20509237]\n",
      " [-5.45001623]]\n",
      "------\n",
      "[[0.0042779 ]\n",
      " [0.99650925]\n",
      " [0.99715469]\n",
      " [0.00348742]]\n"
     ]
    }
   ],
   "source": [
    "for i in range(50000):\n",
    "    \n",
    "    inputs = training_data\n",
    "    \n",
    "    # pass the taining set through our neural network\n",
    "    outputs = sigmoid(np.dot(inputs,weights))\n",
    "    \n",
    "    #calculate the error (The difference b/w the)\n",
    "    error = train_output - outputs\n",
    "    \n",
    "    \n",
    "    #Multiply the error by the input and again by the\n",
    "    #This means less confident weights are adjusted m\n",
    "    #This ,eans inputs, which are zero, do not cause\n",
    "    \n",
    "    adjusted_weights = error * SCG(outputs)\n",
    "    \n",
    "    \n",
    "    weights  += np.dot (inputs.T, adjusted_weights)\n",
    "    \n",
    "print(weights)\n",
    "print(\"------\")\n",
    "print(outputs)"
   ]
  },
  {
   "cell_type": "code",
   "execution_count": null,
   "id": "7e7a54d1",
   "metadata": {},
   "outputs": [],
   "source": []
  }
 ],
 "metadata": {
  "kernelspec": {
   "display_name": "Python 3 (ipykernel)",
   "language": "python",
   "name": "python3"
  },
  "language_info": {
   "codemirror_mode": {
    "name": "ipython",
    "version": 3
   },
   "file_extension": ".py",
   "mimetype": "text/x-python",
   "name": "python",
   "nbconvert_exporter": "python",
   "pygments_lexer": "ipython3",
   "version": "3.9.13"
  }
 },
 "nbformat": 4,
 "nbformat_minor": 5
}
